{
 "cells": [
  {
   "cell_type": "code",
   "execution_count": 12,
   "metadata": {},
   "outputs": [
    {
     "data": {
      "image/png": "[encoded data removed]",
      "text/plain": [
       "<PIL.Image.Image image mode=L size=256x64 at 0x7F1AA20F2EF0>"
      ]
     },
     "execution_count": 12,
     "metadata": {},
     "output_type": "execute_result"
    }
   ],
   "source": [
    "from PIL import Image\n",
    "from math import *\n",
    "import random\n",
    "import numpy as np\n",
    "from matplotlib import pyplot as plt\n",
    "\n",
    "w = 256\n",
    "h = 64\n",
    "img = Image.new( 'L', (w, h), \"black\") # Create a new black image\n",
    "pixels = img.load() # Create the pixel map\n",
    "for i in range(img.size[0]):    # For every pixel:\n",
    "    for j in range(img.size[1]):\n",
    "        pixels[i,j] = int(abs(sin(i/32))*155)\n",
    "img\n",
    "#imshow(np.asarray(img))\n",
    "#img.show()"
   ]
  },
  {
   "cell_type": "code",
   "execution_count": null,
   "metadata": {},
   "outputs": [
    {
     "name": "stdout",
     "output_type": "stream",
     "text": [
      "sigmat: 0.1\n"
     ]
    },
    {
     "data": {
      "image/png": "[encoded data removed]",
      "text/plain": [
       "<matplotlib.figure.Figure at 0x7f1aa203b780>"
      ]
     },
     "metadata": {},
     "output_type": "display_data"
    },
    {
     "name": "stdout",
     "output_type": "stream",
     "text": [
      "sigmat: 0.2\n"
     ]
    },
    {
     "data": {
      "image/png": "[encoded data removed]",
      "text/plain": [
       "<matplotlib.figure.Figure at 0x7f1aa23a0630>"
      ]
     },
     "metadata": {},
     "output_type": "display_data"
    }
   ],
   "source": [
    "def render(sigmaT):\n",
    "    data = np.zeros([h, w, 3], dtype=np.float)\n",
    "    pixelToDist = 5.0 / w\n",
    "    distToPixel = 1.0 / pixelToDist\n",
    "    spp = 1000;\n",
    "    for p in range(spp):\n",
    "        sampledDist = -log(1.0-random.random()) / sigmaT\n",
    "        for x in range(w):\n",
    "            if (sampledDist < (x*pixelToDist)):\n",
    "                continue\n",
    "            t = abs(sin(x/32))\n",
    "            p = exp(-x*pixelToDist*sigmaT)\n",
    "            for y in range(h):\n",
    "                data[y,x]+=t/p\n",
    "    \n",
    "    for x in range(w):\n",
    "        for y in range(h):                            \n",
    "            data[y,x] /=float(spp)\n",
    "\n",
    "    img = Image.fromarray(np.uint8(data * 155))\n",
    "\n",
    "#    plt.imshow(img, cmap=plt.cm.ocean, interpolation = 'bicubic')\n",
    "    print(\"sigmat:\", sigmaT)\n",
    "    plt.imshow(img)\n",
    "#    plt.xticks([]), plt.yticks([])  # to hide tick values on X and Y axis\n",
    "    plt.show()    \n",
    "\n",
    "for sigmaT in range(1,11):\n",
    "    render(sigmaT/10.0)\n",
    "    #imshow(np.asarray(img2))\n"
   ]
  },
  {
   "cell_type": "code",
   "execution_count": null,
   "metadata": {},
   "outputs": [],
   "source": []
  },
  {
   "cell_type": "code",
   "execution_count": null,
   "metadata": {},
   "outputs": [],
   "source": []
  },
  {
   "cell_type": "code",
   "execution_count": null,
   "metadata": {},
   "outputs": [],
   "source": []
  }
 ],
 "metadata": {
  "kernelspec": {
   "display_name": "Python 3",
   "language": "python",
   "name": "python3"
  },
  "language_info": {
   "codemirror_mode": {
    "name": "ipython",
    "version": 3
   },
   "file_extension": ".py",
   "mimetype": "text/x-python",
   "name": "python",
   "nbconvert_exporter": "python",
   "pygments_lexer": "ipython3",
   "version": "3.6.4"
  }
 },
 "nbformat": 4,
 "nbformat_minor": 2
}
